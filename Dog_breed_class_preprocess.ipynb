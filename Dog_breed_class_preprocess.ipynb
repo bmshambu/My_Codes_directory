{
  "nbformat": 4,
  "nbformat_minor": 0,
  "metadata": {
    "colab": {
      "name": "Dog_breed_class_preprocess.ipynb",
      "provenance": [],
      "collapsed_sections": [],
      "toc_visible": true,
      "mount_file_id": "1DrWKZZCrL0tRoGBA7tDr6w6ce7xRkOyv",
      "authorship_tag": "ABX9TyMdzaA6pqlp8Z6Bz7thsdAw",
      "include_colab_link": true
    },
    "kernelspec": {
      "name": "python3",
      "display_name": "Python 3"
    },
    "accelerator": "GPU"
  },
  "cells": [
    {
      "cell_type": "markdown",
      "metadata": {
        "id": "view-in-github",
        "colab_type": "text"
      },
      "source": [
        "<a href=\"https://colab.research.google.com/github/bmshambu/hello_world/blob/master/Dog_breed_class_preprocess.ipynb\" target=\"_parent\"><img src=\"https://colab.research.google.com/assets/colab-badge.svg\" alt=\"Open In Colab\"/></a>"
      ]
    },
    {
      "cell_type": "code",
      "metadata": {
        "id": "x7ASH22nFAxj",
        "colab_type": "code",
        "colab": {}
      },
      "source": [
        "import pandas as pd\n",
        "import numpy as np\n",
        "import os\n",
        "import matplotlib.pyplot as plt\n",
        "from sklearn.preprocessing import LabelEncoder\n",
        "from keras.utils import np_utils\n",
        "from keras.preprocessing.image import load_img"
      ],
      "execution_count": 0,
      "outputs": []
    },
    {
      "cell_type": "code",
      "metadata": {
        "id": "LzFHXz5xrDr4",
        "colab_type": "code",
        "colab": {}
      },
      "source": [
        "# Setting up the path and importing the datasets\n",
        "\n",
        "path ='drive/My Drive/Dog_breed_classification/'\n",
        "train_path =path+'train/'\n",
        "train_images =os.listdir(train_path)\n",
        "dog_labels = pd.read_csv(path+'labels.csv')"
      ],
      "execution_count": 0,
      "outputs": []
    },
    {
      "cell_type": "code",
      "metadata": {
        "id": "5_9Cibc9rtEo",
        "colab_type": "code",
        "colab": {}
      },
      "source": [
        "# data preprocessing step mapping the dog breeds to images and resizing the images to shape 224,224,3\n",
        "image_data =[]\n",
        "for idx,id_image in enumerate(train_images):\n",
        "    image=load_img(train_path+id_image,target_size=(224,224,3))\n",
        "    image=np.array(image)\n",
        "    image=image.reshape((image.shape))\n",
        "    id_label=id_image[:-4]\n",
        "    #print(id_label)\n",
        "    dog_breed = dog_labels.breed[dog_labels.id == id_label].values[0]\n",
        "    image_data.append((dog_breed,image))"
      ],
      "execution_count": 0,
      "outputs": []
    },
    {
      "cell_type": "code",
      "metadata": {
        "id": "Uhxy-uPUnPI_",
        "colab_type": "code",
        "colab": {}
      },
      "source": [
        ""
      ],
      "execution_count": 0,
      "outputs": []
    }
  ]
}